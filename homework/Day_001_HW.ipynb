{
 "cells": [
  {
   "cell_type": "code",
   "execution_count": null,
   "metadata": {},
   "outputs": [],
   "source": [
    "# 作業1：\n",
    "\n",
    "Competitions：CareerCon2019 Help Navigate Robots，link https://www.kaggle.com/c/career-con-2019\n",
    "\n",
    "1. 你選的這組資料為何重要\n",
    "   \n",
    "   \n",
    "    Ans：為了讓就業博覽會的協助導航機器人正確得提供服務\n",
    "\n",
    "    \n",
    "2. 資料從何而來 (tips: 譬如提供者是誰、以什麼方式蒐集)\n",
    "    \n",
    "    Ans：\n",
    "    \n",
    "    提供者：\n",
    "    Heikki Huttunen and Francesco Lomio from the Department of Signal Processing from Tampere University\n",
    "    Damoon Mohamadi, Kaan Celikbilek, Pedram Ghazi and Reza Ghabcheloo from the Department of Automation and Mechanical Engineering from Tampere University\n",
    "    \n",
    "    蒐集方式：\n",
    "    Collect IMU sensor data while driving a small mobile robot over different floor surfaces on the university premises. \n",
    "    The task is to predict which one of the nine floor types (carpet, tiles, concrete) the robot is on using sensor data such as acceleration and velocity.\n",
    "\n",
    "\n",
    "3. 蒐集而來的資料型態為何\n",
    "    \n",
    "    Ans：結構化資料：csv，\n",
    "    \n",
    "    感測器渠道參數：X_[train/test].csv\n",
    "    row_id  (流水號)   \n",
    "    measurement_number(量測編號)\n",
    "    \n",
    "    orientation_X\n",
    "    orientation_Y\n",
    "    orientation_Z\n",
    "    orientation_W\n",
    "    (X、Y、Z、M方向)   \n",
    "    \n",
    "    angular_velocity_X\n",
    "    angular_velocity_Y\n",
    "    angular_velocity_Z\n",
    "    (X、Y、Z方向角速度)\n",
    "   \n",
    "    linear_acceleration_X\n",
    "    linear_acceleration_Y\n",
    "    linear_acceleration_Z\n",
    "    (X、Y、Z方向線性加速度)\n",
    "    \n",
    "    地板表面類型參數：y_train.csv\n",
    "    series_id (量測編號)\n",
    "    group_id (驗證用參數)\n",
    "    surface (地板類型)\n",
    "\n",
    "\n",
    "4. 這組資料想解決的問題如何評估\n",
    "    \n",
    "    Ans：Multiclass Accuracy, which is simply the average number of observations with the correct label.\n",
    "    \n",
    "\n",
    "# 作業2：\n",
    "\n",
    "想像你經營一個自由載客車隊，你希望能透過數據分析以提升業績，請你思考並描述你如何規劃整體的分析/解決方案：\n",
    "\n",
    "1. 核心問題為何 (tips：如何定義 「提升業績 & 你的假設」)\n",
    "\n",
    "Ans：我認為核心問題是哪個時間區段和哪個地點有較多的人潮，而假設該地點人群有較高意願使用自由車隊載客服務而非搭乘大眾運輸工具\n",
    "\n",
    "2. 資料從何而來 (tips：哪些資料可能會對你想問的問題產生影響 & 資料如何蒐集)\n",
    "\n",
    "Ans：打卡地點、學校、車站，電影院等人潮多的地點，以及藉由問卷調查到這些地點的交通方式。該地點轉乘較方便可能會影響。\n",
    "\n",
    "3. 蒐集而來的資料型態為何\n",
    "\n",
    "Ans：文字、時間(數值)、人數(數值)\n",
    "\n",
    "4. 你要回答的問題，其如何評估 (tips：你的假設如何驗證)\n",
    "\n",
    "Ans：將蒐集來的資料分析後實行該載客方案，並與現在方案作比較\n",
    "\n",
    "# 作業3\n",
    "## 練習時間\n",
    "#### 請寫一個函式用來計算 Mean Square Error\n",
    "$ MSE = \\frac{1}{n}\\sum_{i=1}^{n}{(Y_i - \\hat{Y}_i)^2} $\n",
    "\n",
    "### Hint: [如何取平方](https://googoodesign.gitbooks.io/-ezpython/unit-1.html)"
   ]
  },
  {
   "cell_type": "code",
   "execution_count": 27,
   "metadata": {},
   "outputs": [],
   "source": [
    "import numpy as np\n",
    "import matplotlib.pyplot as plt"
   ]
  },
  {
   "cell_type": "code",
   "execution_count": 28,
   "metadata": {},
   "outputs": [],
   "source": [
    "def mean_squared_error(y,yp):\n",
    "\n",
    "    mse = MSE = sum(abs(y - yp)**2) / len(y)\n",
    "    return mse\n"
   ]
  },
  {
   "cell_type": "code",
   "execution_count": 29,
   "metadata": {},
   "outputs": [],
   "source": [
    "def mean_absolute_error(y, yp):\n",
    "    mae = MAE = sum(abs(y - yp)) / len(y)\n",
    "    return mae"
   ]
  },
  {
   "cell_type": "code",
   "execution_count": 30,
   "metadata": {
    "scrolled": true
   },
   "outputs": [
    {
     "data": {
      "image/png": "[encoded data removed]",
      "text/plain": [
       "<Figure size 432x288 with 1 Axes>"
      ]
     },
     "metadata": {
      "needs_background": "light"
     },
     "output_type": "display_data"
    }
   ],
   "source": [
    "w = 3\n",
    "b = 0.5\n",
    "\n",
    "x_lin = np.linspace(0, 100, 101)\n",
    "\n",
    "y = (x_lin + np.random.randn(101) * 5) * w + b\n",
    "\n",
    "plt.plot(x_lin, y, 'b.', label = 'data points')\n",
    "plt.title(\"Assume we have data points\")\n",
    "plt.legend(loc = 2)\n",
    "plt.show()"
   ]
  },
  {
   "cell_type": "code",
   "execution_count": 31,
   "metadata": {},
   "outputs": [
    {
     "data": {
      "image/png": "[encoded data removed]",
      "text/plain": [
       "<Figure size 432x288 with 1 Axes>"
      ]
     },
     "metadata": {
      "needs_background": "light"
     },
     "output_type": "display_data"
    }
   ],
   "source": [
    "y_hat = x_lin * w + b\n",
    "plt.plot(x_lin, y, 'b.', label = 'data')\n",
    "plt.plot(x_lin, y_hat, 'r-', label = 'prediction')\n",
    "plt.title(\"Assume we have data points (And the prediction)\")\n",
    "plt.legend(loc = 2)\n",
    "plt.show()"
   ]
  },
  {
   "cell_type": "code",
   "execution_count": 32,
   "metadata": {},
   "outputs": [
    {
     "name": "stdout",
     "output_type": "stream",
     "text": [
      "The Mean squared error is 229.059\n",
      "The Mean absolute error is 12.207\n"
     ]
    }
   ],
   "source": [
    "# 執行 Function, 確認有沒有正常執行\n",
    "MSE = mean_squared_error(y, y_hat)\n",
    "MAE = mean_absolute_error(y, y_hat)\n",
    "print(\"The Mean squared error is %.3f\" % (MSE))\n",
    "print(\"The Mean absolute error is %.3f\" % (MAE))"
   ]
  },
  {
   "cell_type": "code",
   "execution_count": null,
   "metadata": {},
   "outputs": [],
   "source": []
  }
 ],
 "metadata": {
  "anaconda-cloud": {},
  "kernelspec": {
   "display_name": "Python 3",
   "language": "python",
   "name": "python3"
  },
  "language_info": {
   "codemirror_mode": {
    "name": "ipython",
    "version": 3
   },
   "file_extension": ".py",
   "mimetype": "text/x-python",
   "name": "python",
   "nbconvert_exporter": "python",
   "pygments_lexer": "ipython3",
   "version": "3.7.1"
  }
 },
 "nbformat": 4,
 "nbformat_minor": 1
}
